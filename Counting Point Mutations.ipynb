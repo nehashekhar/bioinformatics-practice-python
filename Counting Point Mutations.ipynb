{
 "cells": [
  {
   "cell_type": "code",
   "execution_count": 5,
   "metadata": {
    "collapsed": false
   },
   "outputs": [
    {
     "name": "stdout",
     "output_type": "stream",
     "text": [
      "Hamming distance: 7\n"
     ]
    }
   ],
   "source": [
    "'''\n",
    "Given two strings ss and tt of equal length, the Hamming distance between ss and tt, denoted dH(s,t)dH(s,t), \n",
    "is the number of corresponding symbols that differ in ss and tt. See Figure 2.\n",
    "\n",
    "Given: Two DNA strings ss and tt of equal length (not exceeding 1 kbp).\n",
    "\n",
    "Return: The Hamming distance dH(s,t)dH(s,t).\n",
    "http://rosalind.info/problems/hamm/\n",
    "'''\n",
    "def findhammingdistance(string1, string2):\n",
    "    i = 0\n",
    "    dH = 0\n",
    "    \n",
    "    while i<=(len(string1)-1):\n",
    "        if (string1[i]!=string2[i]):\n",
    "            dH = dH + 1\n",
    "        i = i + 1\n",
    "    \n",
    "    return dH\n",
    "\n",
    "s = 'GAGCCTACTAACGGGAT'\n",
    "t = 'CATCGTAATGACGGCCT'\n",
    "\n",
    "print 'Hamming distance:', findhammingdistance(s,t)\n"
   ]
  },
  {
   "cell_type": "code",
   "execution_count": null,
   "metadata": {
    "collapsed": true
   },
   "outputs": [],
   "source": []
  }
 ],
 "metadata": {
  "anaconda-cloud": {},
  "kernelspec": {
   "display_name": "Python [default]",
   "language": "python",
   "name": "python2"
  },
  "language_info": {
   "codemirror_mode": {
    "name": "ipython",
    "version": 2
   },
   "file_extension": ".py",
   "mimetype": "text/x-python",
   "name": "python",
   "nbconvert_exporter": "python",
   "pygments_lexer": "ipython2",
   "version": "2.7.12"
  }
 },
 "nbformat": 4,
 "nbformat_minor": 1
}
