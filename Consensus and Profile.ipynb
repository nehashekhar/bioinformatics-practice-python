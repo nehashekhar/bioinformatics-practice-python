{
 "cells": [
  {
   "cell_type": "code",
   "execution_count": 1,
   "metadata": {
    "collapsed": false
   },
   "outputs": [
    {
     "name": "stdout",
     "output_type": "stream",
     "text": [
      "[{'A': 5, 'C': 0, 'T': 1, 'G': 1, 'N': 0}, {'A': 1, 'C': 0, 'T': 5, 'G': 1, 'N': 0}, {'A': 0, 'C': 1, 'T': 0, 'G': 6, 'N': 0}, {'A': 0, 'C': 4, 'T': 0, 'G': 3, 'N': 0}, {'A': 5, 'C': 2, 'T': 0, 'G': 0, 'N': 0}, {'A': 5, 'C': 0, 'T': 1, 'G': 1, 'N': 0}, {'A': 0, 'C': 6, 'T': 1, 'G': 0, 'N': 0}, {'A': 0, 'C': 1, 'T': 5, 'G': 0, 'N': 0}]\n",
      "ATGCAACT\n"
     ]
    }
   ],
   "source": [
    "'''\n",
    "Given: A collection of at most 10 DNA strings of equal length (at most 1 kbp) in FASTA format.\n",
    "\n",
    "Return: A consensus string and profile matrix for the collection. (If several possible consensus strings exist, \n",
    "then you may return any one of them.)\n",
    "http://rosalind.info/problems/cons/\n",
    "'''\n",
    "def findmaxindict(dict1):\n",
    "    maxkey = ''\n",
    "    maxval = 0\n",
    "    for word in dict1.keys():\n",
    "        if dict1[word]>maxval:\n",
    "            maxkey=word\n",
    "            maxval=dict1[word]\n",
    "    return maxkey\n",
    "    \n",
    "# Read the FASTA file containing sequences and information\n",
    "try:\n",
    "    fo = open('ConsensusAndProfile_Input.txt', 'r')\n",
    "except IOError:\n",
    "    print 'Cannot open file'\n",
    "    \n",
    "# Initialize a list\n",
    "nucleotidecounts = []\n",
    "\n",
    "for line in fo.readlines():\n",
    "    # Skip descriptive lines in FASTA format\n",
    "    if line.startswith('>'):\n",
    "        continue\n",
    "\n",
    "    sequencelength = len(line)\n",
    "\n",
    "    # If the list is empty, initialize it with each element as a dict\n",
    "    if len(nucleotidecounts) == 0:\n",
    "        for j in xrange(0, sequencelength-1):\n",
    "            nucleotidecounts.append({'A':0, 'T':0, 'G':0, 'C':0, 'N':0})\n",
    "\n",
    "    # Loop over a sequence and increment appropriate entry in each dictionary\n",
    "    for i in range(0, sequencelength-1):\n",
    "        nt = line[i]\n",
    "        dict1 = nucleotidecounts[i]\n",
    "        dict1[nt] = dict1[nt] + 1\n",
    "        nucleotidecounts[i] = dict1\n",
    "\n",
    "print nucleotidecounts\n",
    "consensusstring = ''\n",
    "\n",
    "for position in nucleotidecounts:\n",
    "        consensusstring = consensusstring + findmaxindict(position)\n",
    "        \n",
    "print consensusstring\n",
    "# ATGCAACT\n",
    "fo = open('ConsensuAndProfile_Output.txt', 'w+') \n",
    "# here the text file is opened in write and read mode. \n",
    "fo.writelines('Consensus string is:' + consensusstring)\n",
    "fo.close()\n",
    " "
   ]
  },
  {
   "cell_type": "code",
   "execution_count": null,
   "metadata": {
    "collapsed": true
   },
   "outputs": [],
   "source": []
  }
 ],
 "metadata": {
  "anaconda-cloud": {},
  "kernelspec": {
   "display_name": "Python [default]",
   "language": "python",
   "name": "python2"
  },
  "language_info": {
   "codemirror_mode": {
    "name": "ipython",
    "version": 2
   },
   "file_extension": ".py",
   "mimetype": "text/x-python",
   "name": "python",
   "nbconvert_exporter": "python",
   "pygments_lexer": "ipython2",
   "version": "2.7.12"
  }
 },
 "nbformat": 4,
 "nbformat_minor": 1
}
