{
 "cells": [
  {
   "cell_type": "code",
   "execution_count": 1,
   "metadata": {
    "collapsed": false
   },
   "outputs": [
    {
     "name": "stdout",
     "output_type": "stream",
     "text": [
      "If each litter of rabbits produces 3 rabbits, after 5 generations, there will be 19 rabbits. \n"
     ]
    }
   ],
   "source": [
    "'''\n",
    "A sequence is an ordered collection of objects (usually numbers), which are allowed to repeat. \n",
    "Sequences can be finite or infinite. Two examples are the finite sequence (π,−2–√,0,π)(π,−2,0,π) \n",
    "and the infinite sequence of odd numbers (1,3,5,7,9,…)(1,3,5,7,9,…). \n",
    "We use the notation anan to represent the nn-th term of a sequence.\n",
    "\n",
    "A recurrence relation is a way of defining the terms of a sequence with respect to the values of previous terms. \n",
    "In the case of Fibonacci's rabbits from the introduction, any given month will contain the rabbits that were alive \n",
    "the previous month, plus any new offspring. A key observation is that the number of offspring in any month is equal \n",
    "to the number of rabbits that were alive two months prior. As a result, if FnFn represents the number of rabbit pairs \n",
    "alive after the nn-th month, then we obtain the Fibonacci sequence having terms FnFn that are defined by the recurrence \n",
    "relation Fn=Fn−1+Fn−2Fn=Fn−1+Fn−2 (with F1=F2=1F1=F2=1 to initiate the sequence). Although the sequence bears Fibonacci's\n",
    "name, it was known to Indian mathematicians over two millennia ago.\n",
    "\n",
    "When finding the nn-th term of a sequence defined by a recurrence relation, we can simply use the recurrence relation to \n",
    "generate terms for progressively larger values of nn. This problem introduces us to the computational technique of dynamic\n",
    "programming, which successively builds up solutions by using the answers to smaller cases.\n",
    "\n",
    "Given: Positive integers n≤40n≤40 and k≤5k≤5.\n",
    "\n",
    "Return: The total number of rabbit pairs that will be present after nn months, \n",
    "if we begin with 1 pair and in each generation, every pair of reproduction-age rabbits produces a \n",
    "litter of kk rabbit pairs (instead of only 1 pair).\n",
    "http://rosalind.info/problems/fib/\n",
    "\n",
    "'''\n",
    "from Exceptions import CustomExceptions\n",
    "    \n",
    "def fibonacciSequence(k, n):\n",
    "    # Calculating the sum of a number requires three numbers:\n",
    "    # Fn, Fn-1, Fn-2\n",
    "    #Index starts at 0 so that F0=0 and F1=F2=1\n",
    "\n",
    "    if (n < 0 or n > 40):\n",
    "        raise CustomExceptions.BoundaryException(\"n should be a positive integer less than or equal to 40\")\n",
    "\n",
    "    if (k < 0 or k > 5):\n",
    "        raise CustomExceptions.BoundaryException(\"k should be a positive integer less than or equal to 5\")\n",
    "\n",
    "    if (n == 0):\n",
    "        return 0\n",
    "    \n",
    "    if (n == 1):\n",
    "        return 1;\n",
    "\n",
    "\n",
    "    Fn = 0;\n",
    "\n",
    "    for i in range(0, n):\n",
    "        Fn = fibonacciSequence(k, n - 1) + fibonacciSequence(k, n - 2) * k\n",
    "\n",
    "    return Fn;\n",
    "\n",
    "k=3\n",
    "n=5\n",
    "print 'If each litter of rabbits produces %0.0f rabbits, after %0.f generations, there will be %0.f rabbits. ' %(k, n, fibonacciSequence(k,n))\n"
   ]
  },
  {
   "cell_type": "code",
   "execution_count": null,
   "metadata": {
    "collapsed": true
   },
   "outputs": [],
   "source": []
  }
 ],
 "metadata": {
  "anaconda-cloud": {},
  "kernelspec": {
   "display_name": "Python [default]",
   "language": "python",
   "name": "python2"
  },
  "language_info": {
   "codemirror_mode": {
    "name": "ipython",
    "version": 2
   },
   "file_extension": ".py",
   "mimetype": "text/x-python",
   "name": "python",
   "nbconvert_exporter": "python",
   "pygments_lexer": "ipython2",
   "version": "2.7.12"
  }
 },
 "nbformat": 4,
 "nbformat_minor": 1
}
