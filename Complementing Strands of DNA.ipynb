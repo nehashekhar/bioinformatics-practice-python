{
 "cells": [
  {
   "cell_type": "code",
   "execution_count": 3,
   "metadata": {
    "collapsed": false
   },
   "outputs": [
    {
     "name": "stdout",
     "output_type": "stream",
     "text": [
      "Strand: AAAACCCGGT\n",
      "Reverse complement of strand: ACCGGGTTTT\n"
     ]
    }
   ],
   "source": [
    "'''\n",
    "In DNA strings, symbols 'A' and 'T' are complements of each other, as are 'C' and 'G'.\n",
    "\n",
    "The reverse complement of a DNA string s is the string s^c formed by reversing the symbols of s, \n",
    "then taking the complement of each symbol (e.g., the reverse complement of \"GTCA\" is \"TGAC\").\n",
    "\n",
    "Given: A DNA string s of length at most 1000 bp.\n",
    "\n",
    "Return: The reverse complement scsc of ss.\n",
    "http://rosalind.info/problems/revc/\n",
    "'''\n",
    "from NucleotideUtils import NucleotideUtils \n",
    "\n",
    "s = 'AAAACCCGGT'\n",
    "print 'Strand:', s\n",
    "sr = NucleotideUtils.reversestrand(s)\n",
    "sc = NucleotideUtils.complementstrand(sr)\n",
    "print 'Reverse complement of strand:', sc\n"
   ]
  }
 ],
 "metadata": {
  "anaconda-cloud": {},
  "kernelspec": {
   "display_name": "Python [default]",
   "language": "python",
   "name": "python2"
  },
  "language_info": {
   "codemirror_mode": {
    "name": "ipython",
    "version": 2
   },
   "file_extension": ".py",
   "mimetype": "text/x-python",
   "name": "python",
   "nbconvert_exporter": "python",
   "pygments_lexer": "ipython2",
   "version": "2.7.12"
  }
 },
 "nbformat": 4,
 "nbformat_minor": 1
}
