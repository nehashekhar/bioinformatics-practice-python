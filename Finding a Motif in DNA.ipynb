{
 "cells": [
  {
   "cell_type": "code",
   "execution_count": 8,
   "metadata": {
    "collapsed": false
   },
   "outputs": [
    {
     "name": "stdout",
     "output_type": "stream",
     "text": [
      "2\n",
      "4\n",
      "10\n"
     ]
    }
   ],
   "source": [
    "'''\n",
    "Given two strings s and t, \n",
    "tt is a substring of s if tt is contained as a c\n",
    "ontiguous collection of symbols in s (as a result, t must be no longer than s).\n",
    "\n",
    "The position of a symbol in a string is the total number of symbols found to its left, \n",
    "including itself (e.g., the positions of all occurrences of 'U' in \"AUGCUUCAGAAAGGUCUUACG\" are 2, 5, 6, 15, 17, and 18).\n",
    "The symbol at position ii of ss is denoted by s[i].\n",
    "\n",
    "A substring of s can be represented as s[j:k], \n",
    "where j and k represent the starting and ending positions of the substring in ss; \n",
    "for example, if s = \"AUGCUUCAGAAAGGUCUUACG\", then s[2:5] = \"UGCU\".\n",
    "\n",
    "The location of a substring s[j:k] is its beginning position j; \n",
    "note that t will have multiple locations in ss if it occurs more than once as a substring of s (see the Sample below).\n",
    "\n",
    "Given: Two DNA strings s and t (each of length at most 1 kbp).\n",
    "\n",
    "Return: All locations of tt as a substring of s.\n",
    "http://rosalind.info/problems/subs/\n",
    "'''\n",
    "import re\n",
    "\n",
    "s = 'GATATATGCATATACTT'\n",
    "t = 'ATAT'\n",
    "tlookahead = '(?=' + t + ')'\n",
    "\n",
    "# print re.findall(t,s) and use (?=...) as lookahead pattern in regest\n",
    "for match in re.finditer(tlookahead,s):\n",
    "    start = match.start() + 1\n",
    "    print start"
   ]
  },
  {
   "cell_type": "code",
   "execution_count": null,
   "metadata": {
    "collapsed": true
   },
   "outputs": [],
   "source": []
  }
 ],
 "metadata": {
  "anaconda-cloud": {},
  "kernelspec": {
   "display_name": "Python [default]",
   "language": "python",
   "name": "python2"
  },
  "language_info": {
   "codemirror_mode": {
    "name": "ipython",
    "version": 2
   },
   "file_extension": ".py",
   "mimetype": "text/x-python",
   "name": "python",
   "nbconvert_exporter": "python",
   "pygments_lexer": "ipython2",
   "version": "2.7.12"
  }
 },
 "nbformat": 4,
 "nbformat_minor": 1
}
